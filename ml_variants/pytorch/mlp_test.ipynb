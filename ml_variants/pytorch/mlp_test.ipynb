{
 "cells": [
  {
   "cell_type": "code",
   "execution_count": 100,
   "id": "b74275a7",
   "metadata": {},
   "outputs": [],
   "source": [
    "from sklearn.model_selection import train_test_split\n",
    "from torch.utils.data import DataLoader,  TensorDataset\n",
    "import torch.nn.functional as F\n",
    "import torch.nn as nn\n",
    "import torch\n",
    "import pandas as pd\n",
    "device = torch.device(\"cuda\" if torch.cuda.is_available() else \"cpu\")"
   ]
  },
  {
   "cell_type": "code",
   "execution_count": 101,
   "id": "df6e0e48",
   "metadata": {},
   "outputs": [],
   "source": [
    "dataframe = pd.read_csv('./Churn.csv')\n",
    "# 7044 rows, 6575 cols\n",
    "x = pd.get_dummies(dataframe.drop(['Churn', 'Customer ID'], axis=1))\n",
    "y = dataframe['Churn'].apply(lambda x: 1 if x == 'Yes' else 0)\n",
    "x_train, x_test, y_train, y_test = train_test_split(\n",
    "    x, y, test_size=0.2, random_state=33)\n",
    "X_train = torch.FloatTensor(x_train.values)  # [5635, 6575]\n",
    "X_test = torch.FloatTensor(x_test.values)\n",
    "Y_train = torch.LongTensor(y_train.values)  # [5635]\n",
    "Y_test = torch.LongTensor(y_test.values)\n",
    "train_combined = TensorDataset(X_train, Y_train)\n",
    "test_combined = TensorDataset(X_test, Y_test)\n",
    "batch_size = 500\n",
    "train_loader = DataLoader(train_combined, batch_size,\n",
    "                          shuffle=True)\n",
    "test_loader = DataLoader(test_combined, shuffle=False)"
   ]
  },
  {
   "cell_type": "code",
   "execution_count": 102,
   "id": "2822cd64",
   "metadata": {},
   "outputs": [],
   "source": [
    "class Model(nn.Module):\n",
    "    def __init__(self, in_features, h1, h2, out_features):\n",
    "        super().__init__()\n",
    "        self.fc1 = nn.Linear(in_features, h1)    # input layer\n",
    "        self.fc2 = nn.Linear(h1, h2)            # hidden layer\n",
    "        self.out = nn.Linear(h2, out_features)  # output layer\n",
    "\n",
    "    def forward(self, x):\n",
    "        x = F.relu(self.fc1(x))\n",
    "        x = F.relu(self.fc2(x))\n",
    "        x = self.out(x)\n",
    "        return x"
   ]
  },
  {
   "cell_type": "code",
   "execution_count": 103,
   "id": "53517cdb",
   "metadata": {},
   "outputs": [],
   "source": [
    "input_size = len(X_train[0])\n",
    "output_size = 2\n",
    "torch.manual_seed(32)\n",
    "hidden_layer_1_nodes = 360\n",
    "hidden_layer_2_nodes = 40\n",
    "model = Model(in_features=input_size, h1=hidden_layer_1_nodes,\n",
    "              h2=hidden_layer_2_nodes, out_features=output_size)\n",
    "if torch.cuda.device_count() > 1:\n",
    "    print(\"Let's use\", torch.cuda.device_count(), \"GPUs!\")\n",
    "    model = nn.DataParallel(model).cuda()\n",
    "\n",
    "model.to(device)\n",
    "criterion = nn.CrossEntropyLoss().cuda(\n",
    ") if torch.cuda.is_available() else nn.CrossEntropyLoss()\n",
    "optimizer = torch.optim.Adam(model.parameters(), lr=0.01)\n",
    "epochs = 120"
   ]
  },
  {
   "cell_type": "code",
   "execution_count": 104,
   "id": "f6bdb1ed",
   "metadata": {},
   "outputs": [
    {
     "name": "stdout",
     "output_type": "stream",
     "text": [
      "epoch: 1 out of 120 completed. Max loss in this batch: 0.012907784432172775\n",
      "epoch: 11 out of 120 completed. Max loss in this batch: 0.06158049777150154\n",
      "epoch: 21 out of 120 completed. Max loss in this batch: 0.032503362745046616\n",
      "epoch: 31 out of 120 completed. Max loss in this batch: 0.037147533148527145\n",
      "epoch: 41 out of 120 completed. Max loss in this batch: 0.02947835624217987\n",
      "epoch: 51 out of 120 completed. Max loss in this batch: 0.10794821381568909\n",
      "epoch: 61 out of 120 completed. Max loss in this batch: 0.027476133778691292\n",
      "epoch: 71 out of 120 completed. Max loss in this batch: 0.025059258565306664\n",
      "epoch: 81 out of 120 completed. Max loss in this batch: 0.014394333586096764\n",
      "epoch: 91 out of 120 completed. Max loss in this batch: 0.02115694433450699\n",
      "epoch: 101 out of 120 completed. Max loss in this batch: 0.014496597461402416\n",
      "epoch: 111 out of 120 completed. Max loss in this batch: 0.011471176519989967\n",
      "Done training!\n"
     ]
    }
   ],
   "source": [
    "# per epoch\n",
    "for i in range(epochs):\n",
    "    i += 1\n",
    "    # per batch\n",
    "    val_correct_preds = 0\n",
    "    count = 0\n",
    "    if i % 10 == 1:\n",
    "        print(f\"epoch: {i} out of {epochs} completed.\",\n",
    "              f\"Max loss in this batch: {max(losses)}\")\n",
    "    losses = []\n",
    "    for batch_idx, (data, target) in enumerate(train_loader):\n",
    "        model.train()\n",
    "        data = data.to(device, non_blocking=True)\n",
    "        target = target.to(device, non_blocking=True)\n",
    "        # training\n",
    "        y_pred = model.forward(data)\n",
    "        loss = criterion(y_pred, target)\n",
    "        losses.append(loss)\n",
    "        # backtracking\n",
    "        optimizer.zero_grad()\n",
    "        loss.backward()\n",
    "        optimizer.step()\n",
    "print(\"Done training!\")"
   ]
  },
  {
   "cell_type": "code",
   "execution_count": 105,
   "id": "682bd1ec",
   "metadata": {},
   "outputs": [
    {
     "name": "stdout",
     "output_type": "stream",
     "text": [
      "\n",
      "1057 out of 1409 = 75.02% correct\n"
     ]
    }
   ],
   "source": [
    "correct = 0\n",
    "with torch.no_grad():\n",
    "    for data, target in test_loader:\n",
    "        data = data.to(device, non_blocking=True)\n",
    "        target = target.to(device, non_blocking=True)\n",
    "        y_val = model.forward(data)\n",
    "#         print(\"predicted:\", y_val.argmax().item(), \"actual: \", target.item())\n",
    "        if y_val.argmax().item() == target.item():\n",
    "            correct += 1\n",
    "print(f'\\n{correct} out of {len(test_loader)} = {100*correct/len(test_loader):.2f}% correct')\n",
    "torch.save(model.state_dict(), 'mlp.pt')\n"
   ]
  },
  {
   "cell_type": "code",
   "execution_count": null,
   "id": "e6cf5e7c",
   "metadata": {},
   "outputs": [],
   "source": []
  }
 ],
 "metadata": {
  "kernelspec": {
   "display_name": "pytorch_env",
   "language": "python",
   "name": "pytorch_env"
  },
  "language_info": {
   "codemirror_mode": {
    "name": "ipython",
    "version": 3
   },
   "file_extension": ".py",
   "mimetype": "text/x-python",
   "name": "python",
   "nbconvert_exporter": "python",
   "pygments_lexer": "ipython3",
   "version": "3.9.7"
  }
 },
 "nbformat": 4,
 "nbformat_minor": 5
}
